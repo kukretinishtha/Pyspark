{
  "nbformat": 4,
  "nbformat_minor": 0,
  "metadata": {
    "colab": {
      "provenance": [],
      "authorship_tag": "ABX9TyOCMTxD9JEpQrQNtuPKXqBe",
      "include_colab_link": true
    },
    "kernelspec": {
      "name": "python3",
      "display_name": "Python 3"
    },
    "language_info": {
      "name": "python"
    }
  },
  "cells": [
    {
      "cell_type": "markdown",
      "metadata": {
        "id": "view-in-github",
        "colab_type": "text"
      },
      "source": [
        "<a href=\"https://colab.research.google.com/github/kukretinishtha/Pyspark/blob/main/PySpark.ipynb\" target=\"_parent\"><img src=\"https://colab.research.google.com/assets/colab-badge.svg\" alt=\"Open In Colab\"/></a>"
      ]
    },
    {
      "cell_type": "code",
      "source": [
        "# Pyspark Introduction"
      ],
      "metadata": {
        "id": "oQLQg__NZgkO"
      },
      "execution_count": 19,
      "outputs": []
    },
    {
      "cell_type": "code",
      "source": [
        "from google.colab import drive\n",
        "drive.mount('/content/drive')"
      ],
      "metadata": {
        "id": "SggKP5zXVbDA"
      },
      "execution_count": null,
      "outputs": []
    },
    {
      "cell_type": "code",
      "source": [
        "# Install Pyspark\n",
        "!pip install pyspark"
      ],
      "metadata": {
        "colab": {
          "base_uri": "https://localhost:8080/"
        },
        "id": "zo0op8-oVegj",
        "outputId": "6880944f-5e36-4cbd-d4c1-972fd4866626"
      },
      "execution_count": 1,
      "outputs": [
        {
          "output_type": "stream",
          "name": "stdout",
          "text": [
            "Looking in indexes: https://pypi.org/simple, https://us-python.pkg.dev/colab-wheels/public/simple/\n",
            "Collecting pyspark\n",
            "  Downloading pyspark-3.4.0.tar.gz (310.8 MB)\n",
            "\u001b[2K     \u001b[90m━━━━━━━━━━━━━━━━━━━━━━━━━━━━━━━━━━━━━━━\u001b[0m \u001b[32m310.8/310.8 MB\u001b[0m \u001b[31m4.0 MB/s\u001b[0m eta \u001b[36m0:00:00\u001b[0m\n",
            "\u001b[?25h  Preparing metadata (setup.py) ... \u001b[?25l\u001b[?25hdone\n",
            "Requirement already satisfied: py4j==0.10.9.7 in /usr/local/lib/python3.9/dist-packages (from pyspark) (0.10.9.7)\n",
            "Building wheels for collected packages: pyspark\n",
            "  Building wheel for pyspark (setup.py) ... \u001b[?25l\u001b[?25hdone\n",
            "  Created wheel for pyspark: filename=pyspark-3.4.0-py2.py3-none-any.whl size=311317145 sha256=51e9517b499373f7027efc15a70d5e6b8bfcb53fed5c42aa56ccdfbdf48b51ae\n",
            "  Stored in directory: /root/.cache/pip/wheels/9f/34/a4/159aa12d0a510d5ff7c8f0220abbea42e5d81ecf588c4fd884\n",
            "Successfully built pyspark\n",
            "Installing collected packages: pyspark\n",
            "Successfully installed pyspark-3.4.0\n"
          ]
        }
      ]
    },
    {
      "cell_type": "code",
      "source": [
        "import pyspark"
      ],
      "metadata": {
        "id": "mC0FeEDnV48u"
      },
      "execution_count": 2,
      "outputs": []
    },
    {
      "cell_type": "code",
      "source": [
        "!mv ../data.csv sample_data"
      ],
      "metadata": {
        "id": "5KsTrJivWKUo"
      },
      "execution_count": 38,
      "outputs": []
    },
    {
      "cell_type": "code",
      "source": [
        "# Import Pandas\n",
        "import pandas as pd\n",
        "pd.read_csv('sample_data/data.csv')"
      ],
      "metadata": {
        "colab": {
          "base_uri": "https://localhost:8080/",
          "height": 204
        },
        "id": "9HzYOiVoXMWp",
        "outputId": "2566ebdf-b308-471c-8b24-95fdf276c3e4"
      },
      "execution_count": 39,
      "outputs": [
        {
          "output_type": "execute_result",
          "data": {
            "text/plain": [
              "      Name  Age  Experience\n",
              "0  Nishtha   26           1\n",
              "1    Nidhi   33           2\n",
              "2     Neha   32           3\n",
              "3      NaN   29           4\n",
              "4      XYZ   98           0"
            ],
            "text/html": [
              "\n",
              "  <div id=\"df-d4e887ea-0393-4176-8aec-d23c5890be48\">\n",
              "    <div class=\"colab-df-container\">\n",
              "      <div>\n",
              "<style scoped>\n",
              "    .dataframe tbody tr th:only-of-type {\n",
              "        vertical-align: middle;\n",
              "    }\n",
              "\n",
              "    .dataframe tbody tr th {\n",
              "        vertical-align: top;\n",
              "    }\n",
              "\n",
              "    .dataframe thead th {\n",
              "        text-align: right;\n",
              "    }\n",
              "</style>\n",
              "<table border=\"1\" class=\"dataframe\">\n",
              "  <thead>\n",
              "    <tr style=\"text-align: right;\">\n",
              "      <th></th>\n",
              "      <th>Name</th>\n",
              "      <th>Age</th>\n",
              "      <th>Experience</th>\n",
              "    </tr>\n",
              "  </thead>\n",
              "  <tbody>\n",
              "    <tr>\n",
              "      <th>0</th>\n",
              "      <td>Nishtha</td>\n",
              "      <td>26</td>\n",
              "      <td>1</td>\n",
              "    </tr>\n",
              "    <tr>\n",
              "      <th>1</th>\n",
              "      <td>Nidhi</td>\n",
              "      <td>33</td>\n",
              "      <td>2</td>\n",
              "    </tr>\n",
              "    <tr>\n",
              "      <th>2</th>\n",
              "      <td>Neha</td>\n",
              "      <td>32</td>\n",
              "      <td>3</td>\n",
              "    </tr>\n",
              "    <tr>\n",
              "      <th>3</th>\n",
              "      <td>NaN</td>\n",
              "      <td>29</td>\n",
              "      <td>4</td>\n",
              "    </tr>\n",
              "    <tr>\n",
              "      <th>4</th>\n",
              "      <td>XYZ</td>\n",
              "      <td>98</td>\n",
              "      <td>0</td>\n",
              "    </tr>\n",
              "  </tbody>\n",
              "</table>\n",
              "</div>\n",
              "      <button class=\"colab-df-convert\" onclick=\"convertToInteractive('df-d4e887ea-0393-4176-8aec-d23c5890be48')\"\n",
              "              title=\"Convert this dataframe to an interactive table.\"\n",
              "              style=\"display:none;\">\n",
              "        \n",
              "  <svg xmlns=\"http://www.w3.org/2000/svg\" height=\"24px\"viewBox=\"0 0 24 24\"\n",
              "       width=\"24px\">\n",
              "    <path d=\"M0 0h24v24H0V0z\" fill=\"none\"/>\n",
              "    <path d=\"M18.56 5.44l.94 2.06.94-2.06 2.06-.94-2.06-.94-.94-2.06-.94 2.06-2.06.94zm-11 1L8.5 8.5l.94-2.06 2.06-.94-2.06-.94L8.5 2.5l-.94 2.06-2.06.94zm10 10l.94 2.06.94-2.06 2.06-.94-2.06-.94-.94-2.06-.94 2.06-2.06.94z\"/><path d=\"M17.41 7.96l-1.37-1.37c-.4-.4-.92-.59-1.43-.59-.52 0-1.04.2-1.43.59L10.3 9.45l-7.72 7.72c-.78.78-.78 2.05 0 2.83L4 21.41c.39.39.9.59 1.41.59.51 0 1.02-.2 1.41-.59l7.78-7.78 2.81-2.81c.8-.78.8-2.07 0-2.86zM5.41 20L4 18.59l7.72-7.72 1.47 1.35L5.41 20z\"/>\n",
              "  </svg>\n",
              "      </button>\n",
              "      \n",
              "  <style>\n",
              "    .colab-df-container {\n",
              "      display:flex;\n",
              "      flex-wrap:wrap;\n",
              "      gap: 12px;\n",
              "    }\n",
              "\n",
              "    .colab-df-convert {\n",
              "      background-color: #E8F0FE;\n",
              "      border: none;\n",
              "      border-radius: 50%;\n",
              "      cursor: pointer;\n",
              "      display: none;\n",
              "      fill: #1967D2;\n",
              "      height: 32px;\n",
              "      padding: 0 0 0 0;\n",
              "      width: 32px;\n",
              "    }\n",
              "\n",
              "    .colab-df-convert:hover {\n",
              "      background-color: #E2EBFA;\n",
              "      box-shadow: 0px 1px 2px rgba(60, 64, 67, 0.3), 0px 1px 3px 1px rgba(60, 64, 67, 0.15);\n",
              "      fill: #174EA6;\n",
              "    }\n",
              "\n",
              "    [theme=dark] .colab-df-convert {\n",
              "      background-color: #3B4455;\n",
              "      fill: #D2E3FC;\n",
              "    }\n",
              "\n",
              "    [theme=dark] .colab-df-convert:hover {\n",
              "      background-color: #434B5C;\n",
              "      box-shadow: 0px 1px 3px 1px rgba(0, 0, 0, 0.15);\n",
              "      filter: drop-shadow(0px 1px 2px rgba(0, 0, 0, 0.3));\n",
              "      fill: #FFFFFF;\n",
              "    }\n",
              "  </style>\n",
              "\n",
              "      <script>\n",
              "        const buttonEl =\n",
              "          document.querySelector('#df-d4e887ea-0393-4176-8aec-d23c5890be48 button.colab-df-convert');\n",
              "        buttonEl.style.display =\n",
              "          google.colab.kernel.accessAllowed ? 'block' : 'none';\n",
              "\n",
              "        async function convertToInteractive(key) {\n",
              "          const element = document.querySelector('#df-d4e887ea-0393-4176-8aec-d23c5890be48');\n",
              "          const dataTable =\n",
              "            await google.colab.kernel.invokeFunction('convertToInteractive',\n",
              "                                                     [key], {});\n",
              "          if (!dataTable) return;\n",
              "\n",
              "          const docLinkHtml = 'Like what you see? Visit the ' +\n",
              "            '<a target=\"_blank\" href=https://colab.research.google.com/notebooks/data_table.ipynb>data table notebook</a>'\n",
              "            + ' to learn more about interactive tables.';\n",
              "          element.innerHTML = '';\n",
              "          dataTable['output_type'] = 'display_data';\n",
              "          await google.colab.output.renderOutput(dataTable, element);\n",
              "          const docLink = document.createElement('div');\n",
              "          docLink.innerHTML = docLinkHtml;\n",
              "          element.appendChild(docLink);\n",
              "        }\n",
              "      </script>\n",
              "    </div>\n",
              "  </div>\n",
              "  "
            ]
          },
          "metadata": {},
          "execution_count": 39
        }
      ]
    },
    {
      "cell_type": "code",
      "source": [
        "# Create Spark Session \n",
        "from pyspark.sql import SparkSession"
      ],
      "metadata": {
        "id": "85uQlNnQXzAj"
      },
      "execution_count": 40,
      "outputs": []
    },
    {
      "cell_type": "code",
      "source": [
        "spark = SparkSession.builder.appName('Practise').getOrCreate()"
      ],
      "metadata": {
        "id": "tIBR5AjhYDGM"
      },
      "execution_count": 41,
      "outputs": []
    },
    {
      "cell_type": "code",
      "source": [
        "spark"
      ],
      "metadata": {
        "colab": {
          "base_uri": "https://localhost:8080/",
          "height": 216
        },
        "id": "fGAMU8eJYSBe",
        "outputId": "5c8ec4a5-44a4-41d1-ce4a-a345306ea0d2"
      },
      "execution_count": 42,
      "outputs": [
        {
          "output_type": "execute_result",
          "data": {
            "text/plain": [
              "<pyspark.sql.session.SparkSession at 0x7fed96279a90>"
            ],
            "text/html": [
              "\n",
              "            <div>\n",
              "                <p><b>SparkSession - in-memory</b></p>\n",
              "                \n",
              "        <div>\n",
              "            <p><b>SparkContext</b></p>\n",
              "\n",
              "            <p><a href=\"http://763974cd1c3a:4040\">Spark UI</a></p>\n",
              "\n",
              "            <dl>\n",
              "              <dt>Version</dt>\n",
              "                <dd><code>v3.4.0</code></dd>\n",
              "              <dt>Master</dt>\n",
              "                <dd><code>local[*]</code></dd>\n",
              "              <dt>AppName</dt>\n",
              "                <dd><code>Practise</code></dd>\n",
              "            </dl>\n",
              "        </div>\n",
              "        \n",
              "            </div>\n",
              "        "
            ]
          },
          "metadata": {},
          "execution_count": 42
        }
      ]
    },
    {
      "cell_type": "code",
      "source": [
        "# Read csv using pyspark\n",
        "# ------ header - header will be shown\n",
        "# ------ inferSchema - It will gives the actual data type of every column\n",
        "df_pyspark = spark.read.csv('sample_data/data.csv', header = 'True', inferSchema = 'True')"
      ],
      "metadata": {
        "id": "chNjKFJOYXcS"
      },
      "execution_count": 43,
      "outputs": []
    },
    {
      "cell_type": "code",
      "source": [
        "# Show dataframe\n",
        "df_pyspark.show()"
      ],
      "metadata": {
        "colab": {
          "base_uri": "https://localhost:8080/"
        },
        "id": "DCrqNVR9YoLJ",
        "outputId": "972def0f-ae56-4ef1-aa32-b9ac6ec52b7b"
      },
      "execution_count": 44,
      "outputs": [
        {
          "output_type": "stream",
          "name": "stdout",
          "text": [
            "+-------+----+----------+\n",
            "|   Name| Age|Experience|\n",
            "+-------+----+----------+\n",
            "|Nishtha|26.0|         1|\n",
            "|  Nidhi|33.0|         2|\n",
            "|   Neha|32.0|         3|\n",
            "|   null|29.0|         4|\n",
            "|    XYZ|98.0|         0|\n",
            "+-------+----+----------+\n",
            "\n"
          ]
        }
      ]
    },
    {
      "cell_type": "code",
      "source": [
        "# Print schema\n",
        "df_pyspark.printSchema()"
      ],
      "metadata": {
        "colab": {
          "base_uri": "https://localhost:8080/"
        },
        "id": "qfvAeAmyZKET",
        "outputId": "f817b583-9533-4fcc-d0f3-95bf37a9fcb4"
      },
      "execution_count": 45,
      "outputs": [
        {
          "output_type": "stream",
          "name": "stdout",
          "text": [
            "root\n",
            " |-- Name: string (nullable = true)\n",
            " |-- Age: double (nullable = true)\n",
            " |-- Experience: integer (nullable = true)\n",
            "\n"
          ]
        }
      ]
    },
    {
      "cell_type": "code",
      "source": [
        "# Show the 2 rows only\n",
        "df_pyspark.head(2)"
      ],
      "metadata": {
        "colab": {
          "base_uri": "https://localhost:8080/"
        },
        "id": "x7iUb5oNaQK2",
        "outputId": "f77cd21b-e548-4dea-8634-9f3609c37ebb"
      },
      "execution_count": 46,
      "outputs": [
        {
          "output_type": "execute_result",
          "data": {
            "text/plain": [
              "[Row(Name='Nishtha', Age=26.0, Experience=1),\n",
              " Row(Name='Nidhi', Age=33.0, Experience=2)]"
            ]
          },
          "metadata": {},
          "execution_count": 46
        }
      ]
    },
    {
      "cell_type": "code",
      "source": [
        "# Show the entire column\n",
        "df_pyspark.select('Name').show()"
      ],
      "metadata": {
        "colab": {
          "base_uri": "https://localhost:8080/"
        },
        "id": "gvHDvO7Qat0K",
        "outputId": "71000c14-45f5-4fd9-fd26-cf6056403407"
      },
      "execution_count": 47,
      "outputs": [
        {
          "output_type": "stream",
          "name": "stdout",
          "text": [
            "+-------+\n",
            "|   Name|\n",
            "+-------+\n",
            "|Nishtha|\n",
            "|  Nidhi|\n",
            "|   Neha|\n",
            "|   null|\n",
            "|    XYZ|\n",
            "+-------+\n",
            "\n"
          ]
        }
      ]
    },
    {
      "cell_type": "code",
      "source": [
        "# Select the column name\n",
        "df_pyspark.select('Name')"
      ],
      "metadata": {
        "colab": {
          "base_uri": "https://localhost:8080/"
        },
        "id": "0jXgSx0Wa3MJ",
        "outputId": "2229530b-d7e5-46cf-9f66-6a98334e8c6c"
      },
      "execution_count": 48,
      "outputs": [
        {
          "output_type": "execute_result",
          "data": {
            "text/plain": [
              "DataFrame[Name: string]"
            ]
          },
          "metadata": {},
          "execution_count": 48
        }
      ]
    },
    {
      "cell_type": "code",
      "source": [
        "# Select the column name\n",
        "df_pyspark['Name']"
      ],
      "metadata": {
        "colab": {
          "base_uri": "https://localhost:8080/"
        },
        "id": "HcxCCZqda6yN",
        "outputId": "53ba87c7-b80a-49a6-d91f-367384a947a1"
      },
      "execution_count": 49,
      "outputs": [
        {
          "output_type": "execute_result",
          "data": {
            "text/plain": [
              "Column<'Name'>"
            ]
          },
          "metadata": {},
          "execution_count": 49
        }
      ]
    },
    {
      "cell_type": "code",
      "source": [
        "# Describe the column\n",
        "df_pyspark.describe().show()"
      ],
      "metadata": {
        "colab": {
          "base_uri": "https://localhost:8080/"
        },
        "id": "sLVISuRubBuS",
        "outputId": "e6b72508-ee83-4b71-ee84-595ec76e7486"
      },
      "execution_count": 50,
      "outputs": [
        {
          "output_type": "stream",
          "name": "stdout",
          "text": [
            "+-------+----+------------------+------------------+\n",
            "|summary|Name|               Age|        Experience|\n",
            "+-------+----+------------------+------------------+\n",
            "|  count|   4|                 5|                 5|\n",
            "|   mean|null|              43.6|               2.0|\n",
            "| stddev|null|30.533588062984016|1.5811388300841898|\n",
            "|    min|Neha|              26.0|                 0|\n",
            "|    max| XYZ|              98.0|                 4|\n",
            "+-------+----+------------------+------------------+\n",
            "\n"
          ]
        }
      ]
    },
    {
      "cell_type": "code",
      "source": [
        "# Add the new column\n",
        "df_pyspark = df_pyspark.withColumn('Age after 2 years', df_pyspark['Age']+2)\n",
        "df_pyspark.show()"
      ],
      "metadata": {
        "colab": {
          "base_uri": "https://localhost:8080/"
        },
        "id": "2HXyOu94bIP4",
        "outputId": "4fbf046d-be68-4c3f-8190-1b80915c86e6"
      },
      "execution_count": 51,
      "outputs": [
        {
          "output_type": "stream",
          "name": "stdout",
          "text": [
            "+-------+----+----------+-----------------+\n",
            "|   Name| Age|Experience|Age after 2 years|\n",
            "+-------+----+----------+-----------------+\n",
            "|Nishtha|26.0|         1|             28.0|\n",
            "|  Nidhi|33.0|         2|             35.0|\n",
            "|   Neha|32.0|         3|             34.0|\n",
            "|   null|29.0|         4|             31.0|\n",
            "|    XYZ|98.0|         0|            100.0|\n",
            "+-------+----+----------+-----------------+\n",
            "\n"
          ]
        }
      ]
    },
    {
      "cell_type": "code",
      "source": [
        "# Drop the column\n",
        "df_pyspark = df_pyspark.drop('Age after 2 years')\n",
        "df_pyspark.show()"
      ],
      "metadata": {
        "colab": {
          "base_uri": "https://localhost:8080/"
        },
        "id": "U5ZWbs1pbr7O",
        "outputId": "12a796c4-192f-478e-801c-948ce4a19f5d"
      },
      "execution_count": 52,
      "outputs": [
        {
          "output_type": "stream",
          "name": "stdout",
          "text": [
            "+-------+----+----------+\n",
            "|   Name| Age|Experience|\n",
            "+-------+----+----------+\n",
            "|Nishtha|26.0|         1|\n",
            "|  Nidhi|33.0|         2|\n",
            "|   Neha|32.0|         3|\n",
            "|   null|29.0|         4|\n",
            "|    XYZ|98.0|         0|\n",
            "+-------+----+----------+\n",
            "\n"
          ]
        }
      ]
    },
    {
      "cell_type": "code",
      "source": [
        "# Reanme the column\n",
        "df_pyspark.withColumnRenamed('Age', 'New Age').show()"
      ],
      "metadata": {
        "colab": {
          "base_uri": "https://localhost:8080/"
        },
        "id": "sRgupR2bb-1T",
        "outputId": "9e257ebe-6c54-4c54-9455-55d06371206a"
      },
      "execution_count": 53,
      "outputs": [
        {
          "output_type": "stream",
          "name": "stdout",
          "text": [
            "+-------+-------+----------+\n",
            "|   Name|New Age|Experience|\n",
            "+-------+-------+----------+\n",
            "|Nishtha|   26.0|         1|\n",
            "|  Nidhi|   33.0|         2|\n",
            "|   Neha|   32.0|         3|\n",
            "|   null|   29.0|         4|\n",
            "|    XYZ|   98.0|         0|\n",
            "+-------+-------+----------+\n",
            "\n"
          ]
        }
      ]
    },
    {
      "cell_type": "code",
      "source": [
        "# Drop column if all columns is na\n",
        "df_pyspark.na.drop(how = 'all').show()"
      ],
      "metadata": {
        "colab": {
          "base_uri": "https://localhost:8080/"
        },
        "id": "dKCIfwUZcOKO",
        "outputId": "fd8aae70-8c0b-4130-d106-0a82b880190d"
      },
      "execution_count": 57,
      "outputs": [
        {
          "output_type": "stream",
          "name": "stdout",
          "text": [
            "+-------+----+----------+\n",
            "|   Name| Age|Experience|\n",
            "+-------+----+----------+\n",
            "|Nishtha|26.0|         1|\n",
            "|  Nidhi|33.0|         2|\n",
            "|   Neha|32.0|         3|\n",
            "|   null|29.0|         4|\n",
            "|    XYZ|98.0|         0|\n",
            "+-------+----+----------+\n",
            "\n"
          ]
        }
      ]
    },
    {
      "cell_type": "code",
      "source": [
        "# Drop column if any column is na\n",
        "df_pyspark.na.drop(how = 'any').show()"
      ],
      "metadata": {
        "colab": {
          "base_uri": "https://localhost:8080/"
        },
        "id": "q1s3ehP3fODM",
        "outputId": "86b4ef05-aae1-4849-c29d-1aa5ffa4a44f"
      },
      "execution_count": 58,
      "outputs": [
        {
          "output_type": "stream",
          "name": "stdout",
          "text": [
            "+-------+----+----------+\n",
            "|   Name| Age|Experience|\n",
            "+-------+----+----------+\n",
            "|Nishtha|26.0|         1|\n",
            "|  Nidhi|33.0|         2|\n",
            "|   Neha|32.0|         3|\n",
            "|    XYZ|98.0|         0|\n",
            "+-------+----+----------+\n",
            "\n"
          ]
        }
      ]
    },
    {
      "cell_type": "code",
      "source": [
        "# Drop column if column is na where threshold = 1\n",
        "df_pyspark.na.drop(how = 'any', thresh = 1).show()"
      ],
      "metadata": {
        "colab": {
          "base_uri": "https://localhost:8080/"
        },
        "id": "5N-KZdfYfrvZ",
        "outputId": "e1473776-c588-4f30-8bb4-47d315a6bc63"
      },
      "execution_count": 59,
      "outputs": [
        {
          "output_type": "stream",
          "name": "stdout",
          "text": [
            "+-------+----+----------+\n",
            "|   Name| Age|Experience|\n",
            "+-------+----+----------+\n",
            "|Nishtha|26.0|         1|\n",
            "|  Nidhi|33.0|         2|\n",
            "|   Neha|32.0|         3|\n",
            "|   null|29.0|         4|\n",
            "|    XYZ|98.0|         0|\n",
            "+-------+----+----------+\n",
            "\n"
          ]
        }
      ]
    },
    {
      "cell_type": "code",
      "source": [
        "#Drop column if column is na  with subset\n",
        "df_pyspark.na.drop(how = 'any', subset = ['Age']).show()"
      ],
      "metadata": {
        "colab": {
          "base_uri": "https://localhost:8080/"
        },
        "id": "tjmN5v3NgiOJ",
        "outputId": "d314cd41-1360-4041-e80b-33d76eb7207e"
      },
      "execution_count": 61,
      "outputs": [
        {
          "output_type": "stream",
          "name": "stdout",
          "text": [
            "+-------+----+----------+\n",
            "|   Name| Age|Experience|\n",
            "+-------+----+----------+\n",
            "|Nishtha|26.0|         1|\n",
            "|  Nidhi|33.0|         2|\n",
            "|   Neha|32.0|         3|\n",
            "|   null|29.0|         4|\n",
            "|    XYZ|98.0|         0|\n",
            "+-------+----+----------+\n",
            "\n"
          ]
        }
      ]
    },
    {
      "cell_type": "code",
      "source": [
        "# Impute with mean\n",
        "from pyspark.ml.feature import Imputer \n",
        "imputer  = Imputer(\n",
        "    inputCols = ['Age', 'Experience'],\n",
        "    outputCols=[\"{}_imputed\".format(c) for c in ['Age', 'Experience']]\n",
        ").setStrategy('mean')"
      ],
      "metadata": {
        "id": "QbeshcOEgzwU"
      },
      "execution_count": 64,
      "outputs": []
    },
    {
      "cell_type": "code",
      "source": [
        "imputer.fit(df_pyspark).transform(df_pyspark).show()"
      ],
      "metadata": {
        "colab": {
          "base_uri": "https://localhost:8080/"
        },
        "id": "ynxtxVdBh4h3",
        "outputId": "b386bb2e-12a7-47c1-d3cc-3f8c6954bcf1"
      },
      "execution_count": 65,
      "outputs": [
        {
          "output_type": "stream",
          "name": "stdout",
          "text": [
            "+-------+----+----------+-----------+------------------+\n",
            "|   Name| Age|Experience|Age_imputed|Experience_imputed|\n",
            "+-------+----+----------+-----------+------------------+\n",
            "|Nishtha|26.0|         1|       26.0|                 1|\n",
            "|  Nidhi|33.0|         2|       33.0|                 2|\n",
            "|   Neha|32.0|         3|       32.0|                 3|\n",
            "|   null|29.0|         4|       29.0|                 4|\n",
            "|    XYZ|98.0|         0|       98.0|                 0|\n",
            "+-------+----+----------+-----------+------------------+\n",
            "\n"
          ]
        }
      ]
    },
    {
      "cell_type": "code",
      "source": [
        "# Filter with pyspark\n",
        "df_pyspark.filter('Age<30').show()"
      ],
      "metadata": {
        "colab": {
          "base_uri": "https://localhost:8080/"
        },
        "id": "78VbIyttiYBS",
        "outputId": "1cac66d3-33d1-41a2-e494-314f08ba9a76"
      },
      "execution_count": 66,
      "outputs": [
        {
          "output_type": "stream",
          "name": "stdout",
          "text": [
            "+-------+----+----------+\n",
            "|   Name| Age|Experience|\n",
            "+-------+----+----------+\n",
            "|Nishtha|26.0|         1|\n",
            "|   null|29.0|         4|\n",
            "+-------+----+----------+\n",
            "\n"
          ]
        }
      ]
    },
    {
      "cell_type": "code",
      "source": [
        "# Filter and show only selected columns\n",
        "df_pyspark.filter('Age<30').select(['Name','Age']).show()"
      ],
      "metadata": {
        "colab": {
          "base_uri": "https://localhost:8080/"
        },
        "id": "vmmH_O6LjFTZ",
        "outputId": "79755dfb-faef-4911-d0d3-602768230851"
      },
      "execution_count": 68,
      "outputs": [
        {
          "output_type": "stream",
          "name": "stdout",
          "text": [
            "+-------+----+\n",
            "|   Name| Age|\n",
            "+-------+----+\n",
            "|Nishtha|26.0|\n",
            "|   null|29.0|\n",
            "+-------+----+\n",
            "\n"
          ]
        }
      ]
    },
    {
      "cell_type": "code",
      "source": [
        "# Two conditions with filter with selected columns\n",
        "df_pyspark.filter((df_pyspark['Age']<30) & (df_pyspark['Experience'] > 2)).select(['Name','Age']).show()"
      ],
      "metadata": {
        "colab": {
          "base_uri": "https://localhost:8080/"
        },
        "id": "ixH7a99hjRmr",
        "outputId": "30369e62-ff83-46ef-caa0-6d1cacf79e59"
      },
      "execution_count": 71,
      "outputs": [
        {
          "output_type": "stream",
          "name": "stdout",
          "text": [
            "+----+----+\n",
            "|Name| Age|\n",
            "+----+----+\n",
            "|null|29.0|\n",
            "+----+----+\n",
            "\n"
          ]
        }
      ]
    },
    {
      "cell_type": "code",
      "source": [
        "# Not operator with pyspark filter\n",
        "df_pyspark.filter(~(df_pyspark['Age'] < 30)).select(['Name','Age']).show()"
      ],
      "metadata": {
        "colab": {
          "base_uri": "https://localhost:8080/"
        },
        "id": "MiNfVVhyjqR1",
        "outputId": "0ff00007-01d4-49a3-e49d-a077aafc9ba7"
      },
      "execution_count": 72,
      "outputs": [
        {
          "output_type": "stream",
          "name": "stdout",
          "text": [
            "+-----+----+\n",
            "| Name| Age|\n",
            "+-----+----+\n",
            "|Nidhi|33.0|\n",
            "| Neha|32.0|\n",
            "|  XYZ|98.0|\n",
            "+-----+----+\n",
            "\n"
          ]
        }
      ]
    },
    {
      "cell_type": "code",
      "source": [],
      "metadata": {
        "id": "-XTXn38nkJ9U"
      },
      "execution_count": null,
      "outputs": []
    }
  ]
}